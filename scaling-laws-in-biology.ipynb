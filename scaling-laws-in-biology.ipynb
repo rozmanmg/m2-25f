{
 "cells": [
  {
   "cell_type": "markdown",
   "id": "ff1eceba-1bdc-4419-8d2e-d422ad2198ff",
   "metadata": {},
   "source": [
    "\n",
    "# Scaling laws in biology"
   ]
  },
  {
   "cell_type": "markdown",
   "id": "67ee5e6b-5e3e-461f-a508-f93c68ba725d",
   "metadata": {},
   "source": [
    "\n",
    "Biological *scaling laws* are power-law relationships (of the type $y \\sim x^{\\alpha}$) between an organism's size and its physiological, anatomical, and ecological traits. These laws show that as an organism's size changes, its characteristics do not change proportionally, a phenomenon known as *allometry*.\n",
    "\n",
    "One of the famous examples of scaling laws is *Kleiber's Law*, which describes how an animal's basal metabolic rate (B) scales with its body mass (M). (The basal metabolic rate is the minimum amount of energy required by the body to maintain essential functions at rest, such as breathing, heartbeat, and organ activity.) Kleiber's initial observations from 1932 involved data from mammals. Subsequent studies have confirmed this relationship across a vast range of organisms, from bacteria to blue whales, spanning over 27 orders of magnitude in mass. The law is often stated as $B = M^{3/4}$."
   ]
  },
  {
   "cell_type": "markdown",
   "id": "e5bc8846-002f-4a77-8bd6-e5614c4886af",
   "metadata": {},
   "source": [
    "\n",
    "While the 3/4 exponent is widely cited, debate exists regarding its exact numerical value and the underlying theory. Some research, focusing on heat transfer, suggests a 2/3 exponent (based on the surface-area-to-volume ratio), while others support the 3/4 value."
   ]
  },
  {
   "cell_type": "markdown",
   "id": "822e0a2c-5c34-4acb-a170-7ef5d38a58c7",
   "metadata": {},
   "source": [
    "\n",
    "The goal of this assignment is to analyze experimental data from the article \"Body size-dependent energy storage causes Kleiber’s law scaling of the metabolic rate in planarians\" (DOI: https://doi.org/10.7554/eLife.38187.001). Specifically, you are asked to verify the existence of a scaling law for this data and numerically determine the scaling exponent."
   ]
  },
  {
   "cell_type": "markdown",
   "id": "00aab581-e6a9-4d71-8013-3d40cbd313a8",
   "metadata": {},
   "source": [
    "\n",
    "Load the required packages:"
   ]
  },
  {
   "cell_type": "code",
   "execution_count": null,
   "id": "e587f41d",
   "metadata": {},
   "outputs": [],
   "source": [
    "\n",
    "using CSV\n",
    "using DataFrames\n",
    "using PyPlot"
   ]
  },
  {
   "cell_type": "markdown",
   "id": "f00e2dea-2bfb-487b-b9f4-de68a6a198be",
   "metadata": {},
   "source": [
    "\n",
    "The URL of the CVS file with the measurements. The file contains two columns: the mass in $mg$ and the metabolic rate in $\\mu W$."
   ]
  },
  {
   "cell_type": "code",
   "execution_count": null,
   "id": "34035a31-a227-471d-96f7-115c53af9942",
   "metadata": {},
   "outputs": [],
   "source": [
    "\n",
    "url = \"https://www.phys.uconn.edu/~rozman/Courses/P2200_25F/downloads/kleibers-law.csv\""
   ]
  },
  {
   "cell_type": "markdown",
   "id": "08d1e239-103d-405f-8666-dbb4f2f21794",
   "metadata": {},
   "source": [
    "\n",
    "Download the data:"
   ]
  },
  {
   "cell_type": "code",
   "execution_count": null,
   "id": "a0eafa03-3a5f-4165-8c26-49bc38af8360",
   "metadata": {},
   "outputs": [],
   "source": [
    "\n",
    "catalog = your_code_here"
   ]
  },
  {
   "cell_type": "markdown",
   "id": "b883888a-baf4-4205-a4ba-b6362d70a782",
   "metadata": {},
   "source": [
    "\n",
    "Load the data into a DataFrame."
   ]
  },
  {
   "cell_type": "code",
   "execution_count": null,
   "id": "f3920b8b-63bc-4ca5-984b-87f4730be9db",
   "metadata": {},
   "outputs": [],
   "source": [
    "\n",
    "df = CSV.read(the code to specify the sourse of your data and the type of the data table goes here,\n",
    "    types=[Float64, Float64]\n",
    ")"
   ]
  },
  {
   "cell_type": "markdown",
   "id": "86d139d9-2550-49d3-bbe6-e183f97338d6",
   "metadata": {},
   "source": [
    "\n",
    "Drop the records with missing data:"
   ]
  },
  {
   "cell_type": "code",
   "execution_count": null,
   "id": "88ad6e12-2c1d-4afb-9093-40daa28d34a9",
   "metadata": {},
   "outputs": [],
   "source": [
    "\n",
    "your_code_here"
   ]
  },
  {
   "cell_type": "markdown",
   "id": "5d9887b3-05af-4b93-999a-47b9c26533ca",
   "metadata": {},
   "source": [
    "\n",
    "Sort the recods by mass."
   ]
  },
  {
   "cell_type": "code",
   "execution_count": null,
   "id": "1a0948fa-4a4e-47dd-842a-ce9e302eb72a",
   "metadata": {},
   "outputs": [],
   "source": [
    "\n",
    "your_code_here"
   ]
  },
  {
   "cell_type": "markdown",
   "id": "8a9b2020-71ea-4600-9d36-ee33bd5d255a",
   "metadata": {},
   "source": [
    "\n",
    "Plot the `Metabolic Rate` vs `Mass`. Use the sutable type of axis to be able to visually detect the existence of a scaling law:"
   ]
  },
  {
   "cell_type": "code",
   "execution_count": null,
   "id": "da9e9bfb-1cf4-4db2-9d07-37fe69adcd1f",
   "metadata": {},
   "outputs": [],
   "source": [
    "\n",
    "......(df.Mass, df.MetabolicRate, \".\", label=\"measurements\")   # <- replace \"....\" the proper plot command\n",
    "grid(true)\n",
    "legend()\n",
    "ylabel(\"Metabolic rate \" * L\"(\\mu W)\")\n",
    "xlabel(\"mass (mg)\");"
   ]
  },
  {
   "cell_type": "markdown",
   "id": "ea0214ec-f3d1-4fe0-a40a-d5d2c22b04ec",
   "metadata": {},
   "source": [
    "\n",
    "Use the least squares fit to find the parameters of the best linear regression."
   ]
  },
  {
   "cell_type": "code",
   "execution_count": null,
   "id": "f78f80a9",
   "metadata": {},
   "outputs": [],
   "source": [
    "\n",
    "\"\"\"\n",
    "   alpha, beta, sigma = linear_regression(x, y)\n",
    "\n",
    "Least square linear regression fit y = alpha + beta * x\n",
    "Sigma is standard deviation for beta\n",
    "\"\"\"\n",
    "function linear_regression(x, y)\n",
    "    your_code_here\n",
    "end"
   ]
  },
  {
   "cell_type": "code",
   "execution_count": null,
   "id": "2df7f2f5",
   "metadata": {},
   "outputs": [],
   "source": [
    "\n",
    "alpha, beta, sigma = linear_regression(your_code_here);"
   ]
  },
  {
   "cell_type": "code",
   "execution_count": null,
   "id": "9fc4f644-8f93-4480-b343-9722ac3f2e82",
   "metadata": {},
   "outputs": [],
   "source": [
    "round(beta, sigdigits=3)"
   ]
  },
  {
   "cell_type": "code",
   "execution_count": null,
   "id": "d788a957-b1bf-4e30-a2d6-bf2946f9f0ba",
   "metadata": {},
   "outputs": [],
   "source": [
    "round(sigma, sigdigits=2)"
   ]
  },
  {
   "cell_type": "markdown",
   "id": "f6e9e8b5-ad05-452d-909e-870a75163ede",
   "metadata": {},
   "source": [
    "\n",
    "Plot of the result of the fit:"
   ]
  },
  {
   "cell_type": "code",
   "execution_count": null,
   "id": "b393684f-73ec-41cd-a888-f02e97080e4e",
   "metadata": {},
   "outputs": [],
   "source": [
    "\n",
    "....(df.Mass, df.MetabolicRate, \".\", label=\"measurements\")        # <- replace \"....\" the proper plot command\n",
    "....(df.Mass, xxxxx * (df.Mass) .^ beta, label=\"LSq linear fit\")  # <- replace \"....\" the proper plot command and \"xxxxx\" the the proper factor\n",
    "grid(true)\n",
    "legend()\n",
    "ylabel(\"Metabolic rate \" * L\"(\\mu W)\")\n",
    "xlabel(\"mass (mg)\")\n",
    "title(\"Kleiber's Law\");"
   ]
  },
  {
   "cell_type": "markdown",
   "id": "6f6281a3-a94d-4d48-84d8-7e204d465ab0",
   "metadata": {},
   "source": [
    "\n",
    "Do your results support the existence of a scaling law? Does your value for scaling exponent, beta, is consistent with the Kleiber's value of the exponent? **Explain**."
   ]
  },
  {
   "cell_type": "code",
   "execution_count": null,
   "id": "7ee56d9c-5a8d-4495-b3f6-43cc6d5176fc",
   "metadata": {},
   "outputs": [],
   "source": []
  }
 ],
 "metadata": {
  "kernelspec": {
   "display_name": "Julia 1.12.1",
   "language": "julia",
   "name": "julia-1.12"
  },
  "language_info": {
   "file_extension": ".jl",
   "mimetype": "application/julia",
   "name": "julia",
   "version": "1.12.1"
  }
 },
 "nbformat": 4,
 "nbformat_minor": 5
}
