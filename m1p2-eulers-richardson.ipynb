{
 "cells": [
  {
   "cell_type": "markdown",
   "id": "1f57a06f-9b32-4663-abee-4d0f0d639740",
   "metadata": {},
   "source": [
    "\n",
    "# Euler–Mascheroni constant and Richardson extrapolation"
   ]
  },
  {
   "cell_type": "markdown",
   "id": "8423a854-cdcc-4e9e-8835-5348144d2f0b",
   "metadata": {},
   "source": [
    "\n",
    "  Euler's constant (sometimes called the Euler–Mascheroni constant) is\n",
    "  a mathematical constant, usually denoted by the lowercase Greek\n",
    "  letter gamma ($\\gamma$), defined as the limiting difference between the\n",
    "  harmonic series and the natural logarithm:\n",
    "\n",
    "  $$\n",
    "    \\gamma = your \\; markdown \\; here\n",
    "      \\tag{1}\n",
    "  $$\n",
    "\n",
    "  The constant first appeared in a 1734 paper by the Leonhard Euler.  Euler's constant, probably the most important mathematical constant after $\\pi$ and $e$, appears frequently\n",
    "  in mathematics, especially in number theory and analysis."
   ]
  },
  {
   "cell_type": "markdown",
   "id": "fb19c197-252f-4136-b01c-d7dca325fd8a",
   "metadata": {},
   "source": [
    "Let's denote the partial sum in Eq.(1) as $G(n)$.\n",
    "$$\n",
    "G(n) \\equiv your \\; markdown \\; here\n",
    " \\tag{2}\n",
    "$$\n",
    "It can be show that\n",
    "$$\n",
    "\\gamma = G(n) + \\frac{\\alpha}{n} + \\frac{\\beta}{n^2} + \\ldots \\tag{3}\n",
    "$$"
   ]
  },
  {
   "cell_type": "markdown",
   "id": "0c3d02c2-70ab-40e5-8c7f-e5c2fc342599",
   "metadata": {},
   "source": [
    "\n",
    "As you can see from Eq. 3, the expression for Euler's constant converges very slowly: direct\n",
    "  summation of the first 100 terms (which is close to the limit that\n",
    "  people in the 17th century could do by hand) gives an absolute error\n",
    "  of about 0.01. Your task is to evaluate the sum with an absolute\n",
    "  error of about 0.0001 (i.e. 100 times smaller) by using Richardson\n",
    "  extrapolation, while still summing not more than 100 terms in the\n",
    "  series."
   ]
  },
  {
   "cell_type": "markdown",
   "id": "b42ce4d0-1f8c-485a-b45a-3ed897fe6b5b",
   "metadata": {},
   "source": [
    "\n",
    "Start by writing a function, `myeulers`, that calculates $G(n)$"
   ]
  },
  {
   "cell_type": "code",
   "execution_count": null,
   "id": "cf9ee858-d021-4f8d-bae7-90afcde950aa",
   "metadata": {},
   "outputs": [],
   "source": [
    "\n",
    "\"\"\"\n",
    "    res = myeulers(n)\n",
    "\n",
    "Your description of the function and the parameter(s) goes here\n",
    "but has not been written yet\n",
    "\"\"\"\n",
    "function myeulers(n)\n",
    "    # your code here   \n",
    "    return 0.0 # placeholder, delete when your code is in place\n",
    "end"
   ]
  },
  {
   "cell_type": "markdown",
   "id": "c2cebe2d-1dc3-4696-a801-b1d543ada01b",
   "metadata": {},
   "source": [
    "\n",
    "The description of the function that you provided:"
   ]
  },
  {
   "cell_type": "code",
   "execution_count": null,
   "id": "4629377d-9a4e-4d90-a158-9f14243dd08a",
   "metadata": {},
   "outputs": [],
   "source": [
    "\n",
    "?myeulers"
   ]
  },
  {
   "cell_type": "markdown",
   "id": "eaea6945-3676-4416-b061-7bc6a1e3370d",
   "metadata": {},
   "source": [
    "### Check the sanity of the code\n",
    "\n",
    "The results of both calculations below should be between 0 and 1, with their difference being close to 1/200 = 0.005."
   ]
  },
  {
   "cell_type": "code",
   "execution_count": null,
   "id": "d42a756c-c43b-4c59-9abf-526555b6908c",
   "metadata": {},
   "outputs": [],
   "source": [
    "\n",
    "s1 = myeulers(50)"
   ]
  },
  {
   "cell_type": "code",
   "execution_count": null,
   "id": "4785f13a-584f-45e4-bfed-1620209ed929",
   "metadata": {},
   "outputs": [],
   "source": [
    "\n",
    "s2 = myeulers(100)"
   ]
  },
  {
   "cell_type": "code",
   "execution_count": null,
   "id": "1e4d4fb5-4224-4dbf-a728-7eb6bb0a77f1",
   "metadata": {},
   "outputs": [],
   "source": [
    "\n",
    "round(s1 - s2, sigdigits=1)"
   ]
  },
  {
   "cell_type": "markdown",
   "id": "dd3c03a8-8839-4494-af11-77b36c122138",
   "metadata": {},
   "source": [
    "\n",
    "### Richardson extrapolation\n",
    "\n",
    "Knowing the dependense of the leading error term in Eq. (3) one can combine the values of $G(n)$ and $G(2n)$ such that the leading error term cancells out. Write a function, `myrichardson(n)` that implements this."
   ]
  },
  {
   "cell_type": "code",
   "execution_count": null,
   "id": "116e6489-2a79-4b52-8627-4c936ddd5cad",
   "metadata": {},
   "outputs": [],
   "source": [
    "\n",
    "\"\"\"\n",
    "    myrichardson(n)\n",
    "\n",
    "Your description of the function and the parameter(s) goes here\n",
    "\"\"\"\n",
    "function myrichardson(n)\n",
    "    s1 = myeulers(n)\n",
    "    s2 = myeulers(2*n)\n",
    "    return your-code-here\n",
    "end"
   ]
  },
  {
   "cell_type": "markdown",
   "id": "b89caa52-db7b-4061-9081-b6beda24b06a",
   "metadata": {},
   "source": [
    "\n",
    "Use julia's own code to obtain the value of $\\gamma$ with the full machine precision:"
   ]
  },
  {
   "cell_type": "code",
   "execution_count": null,
   "id": "19251dc7-7661-4a59-a73f-0a2a62e1e7b9",
   "metadata": {},
   "outputs": [],
   "source": [
    "\n",
    "using Base.MathConstants: eulergamma\n",
    "exact = eulergamma"
   ]
  },
  {
   "cell_type": "markdown",
   "id": "b2f833bd-df7c-4d53-be82-0889a24314ce",
   "metadata": {},
   "source": [
    "\n",
    "Find the error of the result produced by `myeuler(100)`. Round to one significant digit."
   ]
  },
  {
   "cell_type": "code",
   "execution_count": null,
   "id": "84ae9559-9dec-4663-8f72-6ece5ef1e237",
   "metadata": {},
   "outputs": [],
   "source": [
    "\n",
    "round(abs(myeulers(100) - exact), sigdigits=1)"
   ]
  },
  {
   "cell_type": "markdown",
   "id": "5e20030a-e85a-4482-b79c-fdf5bb345799",
   "metadata": {},
   "source": [
    "\n",
    "Find the error of the result produced by `myricahrdson(50)`. Round to one significant digit."
   ]
  },
  {
   "cell_type": "code",
   "execution_count": null,
   "id": "7ff60861-dc7d-437c-a8b0-130061832b7a",
   "metadata": {},
   "outputs": [],
   "source": [
    "\n",
    "err_richardson = round(abs(myrichardson(50) - exact), sigdigits=1)"
   ]
  },
  {
   "cell_type": "markdown",
   "id": "8844850a-4d44-43be-8b7d-d25fc75dde7d",
   "metadata": {},
   "source": [
    "Use trial and error to estimate how many terms is necessary when using 'naive' summation (`myeulers()`) to obtain about the same accuracy as the richardson extrapolation above:"
   ]
  },
  {
   "cell_type": "code",
   "execution_count": null,
   "id": "ecf219fc-9dff-42d4-8383-2b7dfdf70795",
   "metadata": {},
   "outputs": [],
   "source": [
    "\n",
    "nn = your-code-here\n",
    "err_naive = round(myeulers(nn) - exact, sigdigits=1)"
   ]
  },
  {
   "cell_type": "code",
   "execution_count": null,
   "id": "87a997a9-9813-4876-85c9-b2deebcb90c1",
   "metadata": {},
   "outputs": [],
   "source": [
    "err_richardson ≈ err_naive  # this condition must be true"
   ]
  },
  {
   "cell_type": "code",
   "execution_count": null,
   "id": "2093b0ae-fbef-4d14-9eac-a0c96ac888d8",
   "metadata": {},
   "outputs": [],
   "source": []
  }
 ],
 "metadata": {
  "kernelspec": {
   "display_name": "Julia 1.11.6",
   "language": "julia",
   "name": "julia-1.11"
  },
  "language_info": {
   "file_extension": ".jl",
   "mimetype": "application/julia",
   "name": "julia",
   "version": "1.11.6"
  }
 },
 "nbformat": 4,
 "nbformat_minor": 5
}
