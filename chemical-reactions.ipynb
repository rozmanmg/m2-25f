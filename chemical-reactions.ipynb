{
 "cells": [
  {
   "cell_type": "markdown",
   "id": "6e4f8393-b0c9-49f4-93b5-6ccbb81ddeb9",
   "metadata": {},
   "source": [
    "\n",
    "# Kinetics of chemical reactions\n",
    "\n",
    "Chemical reactions, a fundamental aspect of chemistry, are crucial in many biological and industrial processes. \n",
    "Chemical reaction kinetics studies the rates at which reactions occur and the factors influencing these rates. \n",
    "A common approach to modelling chemical reactions is using rate equations, which describe the time evolution \n",
    "of the concentrations of reactants and products."
   ]
  },
  {
   "cell_type": "markdown",
   "id": "146a9008-7f03-4c62-aa52-cbcc570e30a0",
   "metadata": {},
   "source": [
    "\n",
    "### Brusselator"
   ]
  },
  {
   "cell_type": "markdown",
   "id": "1bcf40dd-af24-4af5-aaf8-d91b31c21a1e",
   "metadata": {},
   "source": [
    "\n",
    "The *Brusselator* is a mathematical model of chemical reaction dynamics developed in the 1960s. \n",
    "The model is a simple two-component reaction system that exhibits complex behaviour, including oscillations, and chaos. \n",
    "\n",
    "$$2X \\xrightarrow[ ]{\\alpha} 3X + Y, \\qquad X+Y \\xrightarrow[ ]{\\beta} 2Y \\;.$$\n",
    "\n",
    "here $\\alpha$ and $\\beta$ are the rate constants that control the forward and backward reactions, respectively. \n",
    "The model assumes that the reaction occurs in a homogeneous medium and that the species diffuse freely."
   ]
  },
  {
   "cell_type": "markdown",
   "id": "72f7a476-0981-432d-acc3-dd76e154e161",
   "metadata": {},
   "source": [
    "\n",
    "\n",
    "The dimensionless Brusselator equations are:\n",
    "\n",
    "$$\n",
    "\\frac{\\mathrm{d} u}{\\mathrm{d} t} = \\epsilon - (1+b)u + u^2v, \\qquad\n",
    "\\frac{\\mathrm{d} v}{\\mathrm{d} t}  = bu - u^2v \\;. \\tag{1}\n",
    "$$\n",
    "Here $u$ and $v$ are dimensionless concentrations of chemical species X and Y respectedly, \n",
    "$\\epsilon$ and $b$ are dimensionless parameters that control the system’s overall behaviour. \n",
    "Equations describe how the concentrations of the two species change over time due to the reaction processes."
   ]
  },
  {
   "cell_type": "markdown",
   "id": "f4f23749-4ba2-4620-8092-396fbe92af54",
   "metadata": {},
   "source": [
    "\n",
    "### Assignment\n",
    "\n",
    "The goal of the assignment is to investigate numerically whether the brusselator exibits a *limit cycle*."
   ]
  },
  {
   "cell_type": "markdown",
   "id": "7d4e74d2-9456-4a63-8b91-43385d55de38",
   "metadata": {},
   "source": [
    "\n",
    "#### 1. \n",
    "\n",
    "Install and load the required packages"
   ]
  },
  {
   "cell_type": "code",
   "execution_count": null,
   "id": "073a42c3-fad4-4fbf-a9db-3e6b5de63094",
   "metadata": {},
   "outputs": [],
   "source": [
    "\n",
    "using OrdinaryDiffEqTsit5\n",
    "using PyPlot "
   ]
  },
  {
   "cell_type": "markdown",
   "id": "ee1ce769-70ef-448c-9b79-5dc768be3dab",
   "metadata": {},
   "source": [
    "\n",
    "#### 2.\n",
    "\n",
    "Write the code for the function `brusselator!(dwdt, w, p, t)` that implements the right-hand side of the Brusselator's system of first order differential equations. "
   ]
  },
  {
   "cell_type": "code",
   "execution_count": null,
   "id": "a93502b5-d935-403f-ac6f-70f8992979be",
   "metadata": {},
   "outputs": [],
   "source": [
    "\n",
    "\"\"\"\n",
    "    brusselator!(dwdt, w, p, t)\n",
    "\n",
    "RHS of the Brusselator ODEs\n",
    "\"\"\"\n",
    "function brusselator!(dwdt, w, p, t)\n",
    "  epsilon, b = your_code_here  # unpack parameters\n",
    "  u, v = w        \n",
    "  dwdt[1] = your_code_here\n",
    "  dwdt[2] = your_code_here\n",
    "  return nothing\n",
    "end"
   ]
  },
  {
   "cell_type": "markdown",
   "id": "998eb4d8-2082-414e-9c7a-67045c517323",
   "metadata": {},
   "source": [
    "\n",
    "#### 3."
   ]
  },
  {
   "cell_type": "markdown",
   "id": "4d7de8ba-b6b3-4db7-8c9c-6c53bf482566",
   "metadata": {},
   "source": [
    "\n",
    "Use the following parameters to solve the equations:"
   ]
  },
  {
   "cell_type": "code",
   "execution_count": null,
   "id": "ba26a342-7d3a-42ef-becd-d929d3e714ba",
   "metadata": {},
   "outputs": [],
   "source": [
    "\n",
    "epsilon = 1.0\n",
    "b = 3.0;"
   ]
  },
  {
   "cell_type": "markdown",
   "id": "2f74930d-bf7c-4aa1-b2eb-5cf2fd61ce9b",
   "metadata": {},
   "source": [
    "Pack the parameters"
   ]
  },
  {
   "cell_type": "code",
   "execution_count": null,
   "id": "7303255d-33a3-4834-8a34-fb3d23c7cbf5",
   "metadata": {},
   "outputs": [],
   "source": [
    "\n",
    "p = (epsilon, b)"
   ]
  },
  {
   "cell_type": "markdown",
   "id": "31f48978-f7c3-415b-8f9a-f6826f076851",
   "metadata": {},
   "source": [
    "\n",
    "Specify the initial conditions:"
   ]
  },
  {
   "cell_type": "code",
   "execution_count": null,
   "id": "58c036ce-5d25-41df-aa5d-2fde6788daca",
   "metadata": {},
   "outputs": [],
   "source": [
    "\n",
    "w01 = [1.0, 1.0]"
   ]
  },
  {
   "cell_type": "markdown",
   "id": "116b8faa-2ff8-4f0b-ba0f-2d774e3e2ace",
   "metadata": {},
   "source": [
    "Specify the time span:"
   ]
  },
  {
   "cell_type": "code",
   "execution_count": null,
   "id": "6f4d877c-b809-45c0-8536-11fe1245ca4e",
   "metadata": {},
   "outputs": [],
   "source": [
    "\n",
    "tspan = (0.0, 30.0)"
   ]
  },
  {
   "cell_type": "markdown",
   "id": "31ba4f03-edf0-41e5-a342-4ed884f8305b",
   "metadata": {},
   "source": [
    "\n",
    "#### 4.\n",
    "\n",
    "Define the ODE problem and solve the equations:"
   ]
  },
  {
   "cell_type": "code",
   "execution_count": null,
   "id": "b6fb4106-a27d-4d4f-8722-69768c0e08a0",
   "metadata": {},
   "outputs": [],
   "source": [
    "\n",
    "prob1 = ODEProblem(your_code_here)"
   ]
  },
  {
   "cell_type": "code",
   "execution_count": null,
   "id": "39795605-2ddd-448a-b868-d93e206b8d1b",
   "metadata": {},
   "outputs": [],
   "source": [
    "sol1 = solve(prob1, Tsit5(), reltol=1e-10, abstol=1e-10);"
   ]
  },
  {
   "cell_type": "markdown",
   "id": "d2005e60-49ee-4c10-b1d0-80b912116551",
   "metadata": {},
   "source": [
    "\n",
    "#### 5:"
   ]
  },
  {
   "cell_type": "markdown",
   "id": "a3e2426a-6ac1-4b85-959a-4953a9f6f62e",
   "metadata": {},
   "source": [
    "\n",
    "Plot the concentrations vs time:"
   ]
  },
  {
   "cell_type": "code",
   "execution_count": null,
   "id": "12d2a4be-7929-45c2-ab2f-1deeb368403f",
   "metadata": {},
   "outputs": [],
   "source": [
    "\n",
    "plot(sol1.t, sol1[1, :], label=\"u\")\n",
    "plot(sol1.t, sol1[2, :], label=\"v\")\n",
    "# add grid, title, legend, axes labels"
   ]
  },
  {
   "cell_type": "markdown",
   "id": "c0144877-1f68-4745-8986-d3763301a241",
   "metadata": {},
   "source": [
    "Plot the trajectory in the phase u-v plane:"
   ]
  },
  {
   "cell_type": "code",
   "execution_count": null,
   "id": "7bc72dfc-3974-4db0-9235-15869bd2e68e",
   "metadata": {},
   "outputs": [],
   "source": [
    "\n",
    "plot(your_code_here, label=\"a\")\n",
    "scatter(w01...)\n",
    "axis(\"equal\")\n",
    "# add grod, title, legend, axes labels"
   ]
  },
  {
   "cell_type": "markdown",
   "id": "c97fcff1-9c82-4c84-8f51-60537cf5c8c4",
   "metadata": {},
   "source": [
    "\n",
    "#### 6. Investigate stability and uniqueness of the limit cycle"
   ]
  },
  {
   "cell_type": "markdown",
   "id": "c4ed545e-15e7-4c39-959a-e1741dfda552",
   "metadata": {},
   "source": [
    "\n",
    "As you can see from the phase plot above, at $t$ is increasing, the phase trajectory is approching a limiting trajectory. \n",
    "\n",
    "To investigate the stability and uniqueness of this limiting trajectory, select two more initial conditions for a phase space trajectory: one that starts inside the limiting trajectory, and another that starts outside."
   ]
  },
  {
   "cell_type": "code",
   "execution_count": null,
   "id": "7f0400f1-e22a-4711-b78a-6757393abffe",
   "metadata": {},
   "outputs": [],
   "source": [
    "\n",
    "w02 = [2.0, 3.0]\n",
    "w03 = [4.0, 3.0];"
   ]
  },
  {
   "cell_type": "markdown",
   "id": "a6ffd7bc-3d90-41a0-bbc8-e9ee149c526f",
   "metadata": {},
   "source": [
    "\n",
    "Run your calculations."
   ]
  },
  {
   "cell_type": "code",
   "execution_count": null,
   "id": "b4063d21-dc79-4b71-8459-ade65d35b67d",
   "metadata": {},
   "outputs": [],
   "source": [
    "\n",
    "prob2 = ODEProblem(your_code_here)\n",
    "sol2 = solve(prob2, Tsit5(), reltol=1e-10, abstol=1e-10);\n",
    "\n",
    "prob3 = ODEProblem(your_code_here)\n",
    "sol3 = solve(prob3, Tsit5(), reltol=1e-10, abstol=1e-10);"
   ]
  },
  {
   "cell_type": "markdown",
   "id": "33e45db7-22c5-48f7-b1c4-68c6e2dbaba8",
   "metadata": {},
   "source": [
    "\n",
    "Plot both calculated phase trajectories in the same figure. Mark the starting points of the trajectories."
   ]
  },
  {
   "cell_type": "code",
   "execution_count": null,
   "id": "bdcdf560-a8dc-47ce-bede-b50c2c942838",
   "metadata": {},
   "outputs": [],
   "source": [
    "\n",
    "plot(your_code_here, label=\"1\")    # prob1\n",
    "scatter(w01...)\n",
    "\n",
    "plot(your_code_here, label=\"2\")    # prob2\n",
    "scatter(w02...)\n",
    "\n",
    "plot(your_code_here, label=\"3\")    # prob3\n",
    "scatter(w03...)\n",
    "\n",
    "# add grid, title, legend, axes labels\n",
    "axis(\"equal\");"
   ]
  },
  {
   "cell_type": "markdown",
   "id": "af3cb7b6-697b-4dea-a0dc-7cc2753b0b94",
   "metadata": {},
   "source": [
    "\n",
    "Based on the results of your calculations, describe whetrher the limit cycle of the Brusselator is unstable, seme-stable, or stable one Is it unique or not? Explain."
   ]
  },
  {
   "cell_type": "code",
   "execution_count": null,
   "id": "96d72837-4667-44ac-8eb6-d3df31a6386e",
   "metadata": {},
   "outputs": [],
   "source": []
  }
 ],
 "metadata": {
  "kernelspec": {
   "display_name": "Julia 1.11.6",
   "language": "julia",
   "name": "julia-1.11"
  },
  "language_info": {
   "file_extension": ".jl",
   "mimetype": "application/julia",
   "name": "julia",
   "version": "1.11.6"
  }
 },
 "nbformat": 4,
 "nbformat_minor": 5
}
