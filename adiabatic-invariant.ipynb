{
 "cells": [
  {
   "cell_type": "markdown",
   "id": "8f15b6d1-437a-4b8d-9f97-6952d12a6aca",
   "metadata": {},
   "source": [
    "\n",
    "# Adiabatic invariants"
   ]
  },
  {
   "cell_type": "markdown",
   "id": "e30d18b1-dfde-4f44-8790-ff90478116e6",
   "metadata": {},
   "source": [
    "\n",
    "In Mechanics, *exact conservation laws* - such as the\n",
    "conservation of energy, momentum, or angular momentum - are a\n",
    "direct consequence of continuous symmetries. For example, the\n",
    "conservation of momentum results from a system's symmetry\n",
    "with respect to translations, while the conservation of angular\n",
    "momentum results from symmetry with respect to rotations."
   ]
  },
  {
   "cell_type": "markdown",
   "id": "881d7921-926b-4019-91be-1d8626f652c1",
   "metadata": {},
   "source": [
    "\n",
    "However, there is another general form of *approximate* conservation\n",
    "that is unrelated to system symmetries. Instead, this phenomenon\n",
    "appears when external parameters are slowly varied. We don't refer\n",
    "to this as a \"conservation law\" but rather as *adiabatic\n",
    "invariance* because the constancy is not perfect. Although it is\n",
    "an approximation, the degree of quasi-conservation improves\n",
    "exponentially with the slowness of the parameter change, making the\n",
    "invariance practically indistinguishable from a true conservation law."
   ]
  },
  {
   "cell_type": "markdown",
   "id": "8fb2d969-7752-452d-98d5-bd6110f4cf90",
   "metadata": {},
   "source": [
    "\n",
    "This type of invariance applies specifically to almost periodic\n",
    "motion, where the system's parameters change only slightly over each\n",
    "period. The degree of quasi-conservation depends on the ratio of two\n",
    "time scales: the period of the near periodic motion, and the\n",
    "long time period over which the parameters are varied."
   ]
  },
  {
   "cell_type": "markdown",
   "id": "e852b678-dbf4-4db1-aa43-574e569fd91e",
   "metadata": {},
   "source": [
    "A goal of this assignment is to analyze the motion of a simple mechanical \n",
    "system and numerically verify conservation of adiabatic invariant."
   ]
  },
  {
   "cell_type": "markdown",
   "id": "5e8b080b-2139-4f3e-9347-f183c25ada3c",
   "metadata": {},
   "source": [
    "\n",
    "## Particle in a one-dimensional box"
   ]
  },
  {
   "attachments": {
    "2e37ddac-5c87-436e-952c-58bd9e759b85.png": {
     "image/png": "[encoded data removed]"
    }
   },
   "cell_type": "markdown",
   "id": "6cdfcc81-e905-4efe-8a14-d8d13e3074f3",
   "metadata": {},
   "source": [
    "![changing-box.png](attachment:2e37ddac-5c87-436e-952c-58bd9e759b85.png)"
   ]
  },
  {
   "cell_type": "markdown",
   "id": "a194dad4-e243-431e-a1f3-fa5c3032de79",
   "metadata": {},
   "source": [
    "\n",
    "Consider a particle that slides without friction on a horizontal surface and collides elastically with two walls. \n",
    "The left wall at $x_L = 0$ is at rest, while the right wall undergoes a prescribed motion $x_R = l(t)$.\n",
    "This system does not possess continuous symmetries with respect to translation in time and space, \n",
    "therefore neither energy nor linear momentum of the particle are conserved.\n",
    "\n",
    "However, if the right wall is moving slowly, i.e.\n",
    "$\\frac{\\mathrm{d}l}{\\mathrm{d}t} \\ll v$, where $v = v(t)$ is the speed of the particle, \n",
    "then the general theory of adiabtic invariance predicts that $$l(t) v(t) \\approx \\mathrm{const} \\tag{1}$$"
   ]
  },
  {
   "cell_type": "markdown",
   "id": "55eb70a2-c827-4ff2-b811-dcad0c439521",
   "metadata": {},
   "source": [
    "For numerical calculations in this assignment we use\n",
    "\n",
    "$$l(t) = a + b \\sin \\omega t,$$\n",
    "\n",
    "where $b < a$ so that $l(t) > 0$."
   ]
  },
  {
   "cell_type": "markdown",
   "id": "9cf70c0c-a05e-4338-8523-50f3c4151a51",
   "metadata": {},
   "source": [
    "The velocity of the moving wall,\n",
    "\n",
    "$$v_{R} \\equiv \\frac{\\mathrm{d} l}{\\mathrm{d} t} = b \\, \\omega \\, \\cos(\\omega t) .$$ \n",
    "\n",
    "The \"slowness\" of the rignt wall means that $v(t) \\ll \\omega b$."
   ]
  },
  {
   "cell_type": "markdown",
   "id": "2e1be28e-ae7c-48fc-862c-3b159eca30be",
   "metadata": {},
   "source": [
    "\n",
    "Since the collision particle-wall is elastic, the velocities of the particle just before and after the collision with the moving wall are related as follows:\n",
    "\n",
    "$$v_{after} =  -v_{before} + 2 v_{R} = -v_{before} + 2 b \\, \\omega \\, \\cos(\\omega t), $$\n",
    "\n",
    "where $t$ is the instance of a collision, and $v_{R}$ is the velocity of the moving wall at the instance of collision.\n",
    "\n",
    "The velocities of the particle just before and after the collision with the stationary wall are:\n",
    "\n",
    "$$v_{after} =  -v_{before}.$$"
   ]
  },
  {
   "cell_type": "markdown",
   "id": "df9a0b44-4139-4b35-8a11-bbd61705151e",
   "metadata": {},
   "source": [
    "\n",
    "The instances of collisions with the left wall are solutions of the equation\n",
    "\n",
    "$$x(t) = 0$$\n",
    "\n",
    "The instances of collisions with the right wall are solutions of the equation\n",
    "\n",
    "$$x(t) - a - b\\, \\sin(\\omega t) = 0$$"
   ]
  },
  {
   "cell_type": "markdown",
   "id": "70f0c8ae-cb30-4067-b9ad-98700669437d",
   "metadata": {},
   "source": [
    "\n",
    "Since the particle's motion between collisions is frictionless, the velocity of the particle remains constant, \n",
    "i.e. particle's accelereation between collisions is zero. Thus, the equation of motion of the particle between collisions\n",
    "$$\\frac{\\mathrm{d}^2 x}{\\mathrm{d} t^2} = 0 .$$"
   ]
  },
  {
   "cell_type": "markdown",
   "id": "40ae7c4f-fd64-46d5-976b-7c60d2e9096a",
   "metadata": {},
   "source": [
    "\n",
    "## Dimensionless units"
   ]
  },
  {
   "cell_type": "markdown",
   "id": "5198cf43-4cd2-4351-a0eb-dabe165e8d2a",
   "metadata": {},
   "source": [
    "\n",
    "Let's introduce dimensionless units:\n",
    "\n",
    "$$X = \\frac{y}{b}, \\quad V = \\frac{v}{v_0}, \\quad \\tau =  \\frac{t \\, v_0}{b}, \\quad \\Omega = \\frac{\\omega \\, b}{v_0} ,$$\n",
    "\n",
    "where $v_0$ is the initial velocity of of particle."
   ]
  },
  {
   "cell_type": "markdown",
   "id": "52e2abbd-a89f-4f49-8610-657b277c9296",
   "metadata": {},
   "source": [
    "\n",
    "In the new variables the equation of motion are as follows:\n",
    "\n",
    "$$\\frac{\\mathrm{d}^2 X}{\\mathrm{d}\\tau^2} = 0,$$\n",
    "\n",
    "or\n",
    "\n",
    "$$\\frac{\\mathrm{d}X}{\\mathrm{d}\\tau} = V, \\quad \\frac{\\mathrm{d}V}{\\mathrm{d}\\tau} = 0.$$\n",
    "\n",
    "where $V$ is the dimensionless velocity of the ball."
   ]
  },
  {
   "cell_type": "markdown",
   "id": "29aab22a-495f-450b-9967-4b82d2913d1a",
   "metadata": {},
   "source": [
    "\n",
    "The conditions of the collision in the dimensionless units are as follows:\n",
    "\n",
    "$$X_{collision} - sin(\\Omega \\tau) = 0, \\quad V_{after} = -V_{before} + 2 \\Omega \\cos(\\Omega \\tau) $$\n",
    "\n",
    "for the right wall, and\n",
    "\n",
    "$$X_{collision} = 0, \\quad V_{after} = -V_{before} $$\n",
    "\n",
    "for the left wall."
   ]
  },
  {
   "cell_type": "markdown",
   "id": "7a754a75-fe88-4e37-8234-fad9c51d4569",
   "metadata": {},
   "source": [
    "\n",
    "## Numerical solution"
   ]
  },
  {
   "cell_type": "markdown",
   "id": "f8c32e7e-a40d-462e-819d-119e2ebafb0a",
   "metadata": {},
   "source": [
    "\n",
    "Load required packages."
   ]
  },
  {
   "cell_type": "code",
   "execution_count": null,
   "id": "d2ea4a49-c4b7-429a-a71d-ada2c96a989b",
   "metadata": {},
   "outputs": [],
   "source": [
    "\n",
    "using OrdinaryDiffEqTsit5\n",
    "using PyPlot"
   ]
  },
  {
   "cell_type": "markdown",
   "id": "5d23d5ec-0eb0-47ea-a765-d506dfdfdeea",
   "metadata": {},
   "source": [
    "\n",
    "The right hand side of the equation of motion, written in a vector form:"
   ]
  },
  {
   "cell_type": "code",
   "execution_count": null,
   "id": "8a1c9df3-9a8a-4bc8-b980-d7ee362b59e3",
   "metadata": {},
   "outputs": [],
   "source": [
    "\n",
    "\"\"\"\n",
    "    particle!(dudt, u, p, tau)\n",
    "\n",
    "RHS of the equations of motion in the adiabatic invariant problem. u = [X, V].\n",
    "\"\"\"\n",
    "function particle!(dudt, u, p, tau)\n",
    "    dudt[1] = your_code here\n",
    "    dudt[2] = your_code_here\n",
    "    return nothing\n",
    "end"
   ]
  },
  {
   "cell_type": "markdown",
   "id": "7e54cf43-fd21-4afd-a0fe-8d02f0d6ce10",
   "metadata": {},
   "source": [
    "\n",
    "The position and the velocity of the right wall: "
   ]
  },
  {
   "cell_type": "code",
   "execution_count": null,
   "id": "ffdf221e-4f80-4381-8a4a-b7ff7868ed95",
   "metadata": {},
   "outputs": [],
   "source": [
    "\n",
    "wall_position(tau) = sin(Omega*tau) + L"
   ]
  },
  {
   "cell_type": "code",
   "execution_count": null,
   "id": "cf4a58f3-c184-466c-bef9-3bae2c0d313b",
   "metadata": {},
   "outputs": [],
   "source": [
    "\n",
    "wall_velocity(tau) = Omega*cos(Omega*tau)"
   ]
  },
  {
   "cell_type": "markdown",
   "id": "15718a60-0a82-4035-b9e2-018c88f4f8df",
   "metadata": {},
   "source": [
    "\n",
    "The condition of collision of the particle with the moving (right) wall: $u[1] - wall\\_position(t) = 0$.  "
   ]
  },
  {
   "cell_type": "code",
   "execution_count": null,
   "id": "8781bc0a-441d-4ddc-b7e0-2e0b113e2139",
   "metadata": {},
   "outputs": [],
   "source": [
    "\n",
    "function condition_right(u, tau, integrator)\n",
    "    # your_code_here\n",
    "end"
   ]
  },
  {
   "cell_type": "markdown",
   "id": "90345712-0cd5-4f82-afac-a4818f339aab",
   "metadata": {},
   "source": [
    "\n",
    "The condition of collision of the particle with the stationary (left) wall: $u[1] = 0$.  "
   ]
  },
  {
   "cell_type": "code",
   "execution_count": null,
   "id": "8b8cf66e-1f2a-4d5c-baff-36e068a3734c",
   "metadata": {},
   "outputs": [],
   "source": [
    "\n",
    "function condition_left(u, tau, integrator)\n",
    "    # your_code_here\n",
    "end"
   ]
  },
  {
   "cell_type": "markdown",
   "id": "b8703a81-5398-4158-8151-8f6c4c84ac7d",
   "metadata": {},
   "source": [
    "\n",
    "Change the velocity of the particle at the instant of collision with the moving wall. Uthe the function `wall_velocity`."
   ]
  },
  {
   "cell_type": "code",
   "execution_count": null,
   "id": "af203a92-33e7-4efc-a330-03276efbfa94",
   "metadata": {},
   "outputs": [],
   "source": [
    "\n",
    "function affect_right!(integrator)\n",
    "    # your_code_here\n",
    "end"
   ]
  },
  {
   "cell_type": "markdown",
   "id": "5f013e4d-a994-431a-8103-a58da87bf88d",
   "metadata": {},
   "source": [
    "\n",
    "Change the velocity of the particle at the instant of collision with the left wall. \n",
    "In addition, we use this function save the value of the adiabatic invariant and the time of collision for later use."
   ]
  },
  {
   "cell_type": "code",
   "execution_count": null,
   "id": "d60c7b56-de27-4a26-85dc-db45965fa8ef",
   "metadata": {},
   "outputs": [],
   "source": [
    "\n",
    "function affect_left!(integrator)\n",
    "    your_code_here  # reflection from the stationary wall\n",
    "    push!(adiabatic_invariant, abs(integrator.u[2]) * wall_position(integrator.t)) # store the adiabatic invariant of the system\n",
    "    push!(collision_times, integrator.t)  # store the time of collision\n",
    "end"
   ]
  },
  {
   "cell_type": "markdown",
   "id": "f4f9fafa-f7fa-4ffd-b60c-1d7b39d8ddf0",
   "metadata": {},
   "source": [
    "\n",
    "Callbacks:"
   ]
  },
  {
   "cell_type": "code",
   "execution_count": null,
   "id": "bb114e0b-60aa-43b6-b582-d78db3eab7cb",
   "metadata": {},
   "outputs": [],
   "source": [
    "\n",
    "cb_right = ContinuousCallback(your_code_here)\n",
    "cb_left = ContinuousCallback(your_code_here)\n",
    "cb_complete = CallbackSet(cb_right, cb_left);"
   ]
  },
  {
   "cell_type": "markdown",
   "id": "3ab5254d-c558-4079-9d77-c922c9649b90",
   "metadata": {},
   "source": [
    "\n",
    "Initial conditions and parameters:"
   ]
  },
  {
   "cell_type": "code",
   "execution_count": null,
   "id": "a6c63c8d-7e96-48da-8246-ca9fa71c362b",
   "metadata": {},
   "outputs": [],
   "source": [
    "\n",
    "p = 0.0              # free particle, value not used\n",
    "const Omega = 0.05   # frequency of slow oscillations of the right wall\n",
    "const L = 4.0        # (averaged) distance between walls\n",
    "u0 = [L/2, 1.0]     # initial conditions\n",
    "tspan = (0.0, 200.0);"
   ]
  },
  {
   "cell_type": "markdown",
   "id": "7ff1a614-4648-403c-a48d-0b8ee248a3a2",
   "metadata": {},
   "source": [
    "\n",
    "Initialize arrays for storing adiabatic invariant and times of collisions:"
   ]
  },
  {
   "cell_type": "code",
   "execution_count": null,
   "id": "bc370dca-d8ce-414b-aafc-e5128e08367a",
   "metadata": {},
   "outputs": [],
   "source": [
    "\n",
    "adiabatic_invariant = Float64[]\n",
    "collision_times = Float64[]"
   ]
  },
  {
   "cell_type": "markdown",
   "id": "23f0c6e4-e630-461c-a577-cc21b0ac703c",
   "metadata": {},
   "source": [
    "\n",
    "ODE problem statement:"
   ]
  },
  {
   "cell_type": "code",
   "execution_count": null,
   "id": "fdcf093f-2ed1-44e3-be33-c4a401bafcfc",
   "metadata": {},
   "outputs": [],
   "source": [
    "\n",
    "prob = ODEProblem(your_code_here);"
   ]
  },
  {
   "cell_type": "markdown",
   "id": "da632b98-6940-4176-bc28-cf788277088e",
   "metadata": {},
   "source": [
    "\n",
    "Numerical solution:"
   ]
  },
  {
   "cell_type": "code",
   "execution_count": null,
   "id": "431f08a5-0149-4499-9c43-547b85fb72fc",
   "metadata": {},
   "outputs": [],
   "source": [
    "\n",
    "sol = solve(prob, Tsit5(), callback=cb_complete, dtmax=0.1);"
   ]
  },
  {
   "cell_type": "markdown",
   "id": "9d00b984-bb4d-42cd-a30f-384b088957b9",
   "metadata": {},
   "source": [
    "\n",
    "## Testing conservation of adiabatic invariant"
   ]
  },
  {
   "cell_type": "markdown",
   "id": "5da8b181-e873-4cd4-ba48-45c55144016a",
   "metadata": {},
   "source": [
    "\n",
    "Plot the positions of the particle and the walls as functions of time:"
   ]
  },
  {
   "cell_type": "code",
   "execution_count": null,
   "id": "df023e77-3321-41c5-838a-067fc222c0e1",
   "metadata": {},
   "outputs": [],
   "source": [
    "\n",
    "plot(sol.t, sol[1,:], label=\"particle\")\n",
    "plot(sol.t, wall_position.(sol.t), label=\"right wall\", linestyle=\"dashdot\")\n",
    "plot(sol.t, sol.t * 0, label=\"left wall\", linestyle=\"dashed\")\n",
    "# add grid, title, legend, axes labels"
   ]
  },
  {
   "cell_type": "markdown",
   "id": "9c9fa64a-14af-4740-911a-29a1141ea6d7",
   "metadata": {},
   "source": [
    "\n",
    "Plot the distance between the walls, the velocity of the particle, and the adiabatic invariant as functions of time:"
   ]
  },
  {
   "cell_type": "code",
   "execution_count": null,
   "id": "c718d073-3b57-406a-a87b-4c55144e0862",
   "metadata": {},
   "outputs": [],
   "source": [
    "\n",
    "plot(collision_times, adiabatic_invariant, linestyle=\"dashed\", label=\"adiabatic invariant\")\n",
    "plot(sol.t, wall_position.(sol.t), linestyle=\"dashdot\", label=\"distance between walls\")\n",
    "plot(sol.t, abs.(sol[2,:]), linestyle=\"solid\", label=\"particle speed\")\n",
    "# add grid, title, legend, axes labels"
   ]
  },
  {
   "cell_type": "markdown",
   "id": "2667a295-5d09-4dd9-9d5a-16a1fd1cf823",
   "metadata": {},
   "source": [
    "Notice significant variations in the particle speed, $v(\\tau)$, and distance between walls, $l(\\tau) = L + sin(\\Omega \\, \\tau)$, \n",
    "but almost perfect conservation of the adiabatic invariant which is $l(\\tau) v(\\tau)$. "
   ]
  },
  {
   "cell_type": "code",
   "execution_count": null,
   "id": "5433333a-1e37-4c82-9c1e-bdb7c9253517",
   "metadata": {},
   "outputs": [],
   "source": []
  }
 ],
 "metadata": {
  "kernelspec": {
   "display_name": "Julia 1.11.6",
   "language": "julia",
   "name": "julia-1.11"
  },
  "language_info": {
   "file_extension": ".jl",
   "mimetype": "application/julia",
   "name": "julia",
   "version": "1.11.6"
  }
 },
 "nbformat": 4,
 "nbformat_minor": 5
}
