{
 "cells": [
  {
   "cell_type": "markdown",
   "id": "8ac68af4-a3ac-4e22-8181-92e0f5cb5345",
   "metadata": {},
   "source": [
    "\n",
    "# Spherical Bessel functions of the first kind"
   ]
  },
  {
   "cell_type": "markdown",
   "id": "77f7d544-b17b-4a45-8e4d-31c902fa9cf5",
   "metadata": {},
   "source": [
    "\n",
    "**Spherical Bessel functions** is a particular kind of special functions that are important in physics and applied mathematics.\n",
    "\n",
    "Spherical Bessel functions of the first kind, $j_n(x)$, are the solution of the differential equation that are finite at $x = 0$.\n",
    "$$\n",
    "your \\; markdown \\; here \\tag{1}\n",
    "$$\n",
    "The first few spherical Bessel functions are:\n",
    "$$\n",
    "your \\; markdown \\; here \\tag{2}\n",
    "$$\n",
    "Bessel functions are named after the German astronomer and mathematician Friedrich Bessel, who studied them systematically in 1824.\n",
    "\n",
    "Spherical Bessel functions satisfy the following recurrence relations:\n",
    "$$\n",
    "your \\; markdown \\; here \\tag{3}\n",
    "$$\n",
    "Note that recurrence relation Eq. (3) is unstable in the direction of increasing $n$ and should not be used in this direction for practical calculating $j_n(x)$ for $n > 10$."
   ]
  },
  {
   "cell_type": "markdown",
   "id": "7e88fc4e-9104-4b21-991a-c8a99b6fae13",
   "metadata": {},
   "source": [
    "When writing the code for $j_0(x)$ and $j_1(x)$ one has to be carefull to avoid division by zero at very small values of x:"
   ]
  },
  {
   "cell_type": "code",
   "execution_count": null,
   "id": "b41b8626-6fec-4629-b85c-d2b462719cc9",
   "metadata": {},
   "outputs": [],
   "source": [
    "\n",
    "\"\"\"\n",
    "    _spherical_besselj0(x)\n",
    "\n",
    "Spherical Bessel function j0(x)\n",
    "\"\"\"\n",
    "function _spherical_besselj0(x)\n",
    "    return abs(x) > eps() ? sin(x)/x : 1 - x^2/6 + x^4/120\n",
    "end"
   ]
  },
  {
   "cell_type": "code",
   "execution_count": null,
   "id": "cc26326f-2bfe-480c-8f7b-0db68a59c833",
   "metadata": {},
   "outputs": [],
   "source": [
    "\n",
    "\"\"\"\n",
    "    _spherical_besselj1(x)\n",
    "\n",
    "Spherical Bessel function j1(x)\n",
    "\"\"\"\n",
    "function _spherical_besselj1(x)\n",
    "    return abs(x) > eps() ? (sin(x)/x - cos(x)) / x : x/3 - x^3/30\n",
    "end"
   ]
  },
  {
   "cell_type": "markdown",
   "id": "82a3d441-38dc-4ff5-a9d3-f949cc62a239",
   "metadata": {},
   "source": [
    "\n",
    "Using the recurrence relations Eq. (3) and the implementation of the spherical bessel functions `_spherical_besselj0(x)` and `_spherical_besselj1(x)`, we write the code for `spherical_besselj(n,x)`"
   ]
  },
  {
   "cell_type": "code",
   "execution_count": null,
   "id": "c5e3a026-4546-4378-8839-84a5cbc0fc52",
   "metadata": {},
   "outputs": [],
   "source": [
    "\n",
    "\"\"\"\n",
    "    spherical_besselj(n, x)\n",
    "\n",
    "Calculate spherical bessel function j(n, x) using recurrence relation\n",
    "to the unstable direction of increasing n\n",
    "\"\"\"\n",
    "function spherical_besselj(n, x)\n",
    "\n",
    "    # case n = 0\n",
    "    jp = _spherical_besselj0(x)\n",
    "    # your code here\n",
    "\n",
    "    # case n = 1\n",
    "    jc = _spherical_besselj1(x)\n",
    "    your code here\n",
    "\n",
    "    # special case of a very small x for n > 0\n",
    "    if isapprox(x, 0.0)\n",
    "        return 0.0\n",
    "    end\n",
    "\n",
    "    # use recurrence relations\n",
    "    for i = 1:n-1\n",
    "        # your code here\n",
    "    end\n",
    "\n",
    "    return jc\n",
    "end"
   ]
  },
  {
   "cell_type": "markdown",
   "id": "6c8f2803-4332-49ed-98b7-4cbf8dc94cf5",
   "metadata": {},
   "source": [
    "\n",
    "Measure the performance of the code:"
   ]
  },
  {
   "cell_type": "code",
   "execution_count": null,
   "id": "66cb530c-1fd5-4970-8d15-4b6f10856b72",
   "metadata": {},
   "outputs": [],
   "source": [
    "\n",
    "@time spherical_besselj(1, 0.0)"
   ]
  },
  {
   "cell_type": "code",
   "execution_count": null,
   "id": "1eeac1c4-3fc4-40eb-a9c8-8fcc881f647c",
   "metadata": {},
   "outputs": [],
   "source": [
    "\n",
    "@time spherical_besselj(50, 0.0)"
   ]
  },
  {
   "cell_type": "markdown",
   "id": "b0803e58-a10c-4086-a8e1-c4cccd8ecd33",
   "metadata": {},
   "source": [
    "\n",
    "Use a `for` loop to plot in the same figure the graphs of the first four spherical bessel functions of the first kind, $j_n(x)$, $n = 0, 1, 2, 3$ for $0 \\le x \\le 12$. Use at least 100 data points per graph. Provide the grid, axes labels, title, legend."
   ]
  },
  {
   "cell_type": "code",
   "execution_count": null,
   "id": "5f24f3f9-cef9-4e25-a409-96f294ceda53",
   "metadata": {},
   "outputs": [],
   "source": [
    "\n",
    "using PyPlot"
   ]
  },
  {
   "cell_type": "code",
   "execution_count": null,
   "id": "d276aa8c-ce1e-491f-8b53-962f782f9488",
   "metadata": {},
   "outputs": [],
   "source": [
    "\n",
    "np = your_value_here\n",
    "x = range(0.0, 12.0, np)"
   ]
  },
  {
   "cell_type": "code",
   "execution_count": null,
   "id": "64d2def2-35c9-4987-878a-7d9d5a5b2135",
   "metadata": {},
   "outputs": [],
   "source": [
    "\n",
    "for i = 0:3\n",
    "    plot(your-code-here)\n",
    "end\n",
    "\n",
    "# your code here"
   ]
  },
  {
   "cell_type": "code",
   "execution_count": null,
   "id": "e8937803-62d3-47cd-9d79-6b710232584f",
   "metadata": {},
   "outputs": [],
   "source": []
  }
 ],
 "metadata": {
  "kernelspec": {
   "display_name": "Julia 1.11.6",
   "language": "julia",
   "name": "julia-1.11"
  },
  "language_info": {
   "file_extension": ".jl",
   "mimetype": "application/julia",
   "name": "julia",
   "version": "1.11.6"
  }
 },
 "nbformat": 4,
 "nbformat_minor": 5
}
